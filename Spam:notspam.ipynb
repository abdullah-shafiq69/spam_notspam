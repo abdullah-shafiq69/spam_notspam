{
  "cells": [
    {
      "cell_type": "markdown",
      "id": "4d55c999",
      "metadata": {
        "id": "4d55c999"
      },
      "source": [
        "# import necessarry libraries"
      ]
    },
    {
      "cell_type": "code",
      "execution_count": 113,
      "id": "75af83fc",
      "metadata": {
        "id": "75af83fc"
      },
      "outputs": [],
      "source": [
        "from sklearn.preprocessing import LabelEncoder\n",
        "import regex as re\n",
        "import numpy as np\n",
        "import pandas as pd\n",
        "import warnings\n",
        "warnings.filterwarnings('ignore')\n",
        "from sklearn.model_selection import train_test_split\n",
        "from sklearn.naive_bayes import BernoulliNB\n",
        "from sklearn.metrics import accuracy_score"
      ]
    },
    {
      "cell_type": "code",
      "execution_count": 114,
      "id": "3988822e",
      "metadata": {
        "id": "3988822e"
      },
      "outputs": [],
      "source": [
        "#import data\n",
        "file = '/content/spam.csv'"
      ]
    },
    {
      "cell_type": "code",
      "execution_count": 115,
      "id": "ed002561",
      "metadata": {
        "colab": {
          "base_uri": "https://localhost:8080/"
        },
        "id": "ed002561",
        "outputId": "80d66e44-1855-48f2-984b-4a244657c141"
      },
      "outputs": [
        {
          "output_type": "execute_result",
          "data": {
            "text/plain": [
              "{'encoding': 'Windows-1252', 'confidence': 0.7270322499829184, 'language': ''}"
            ]
          },
          "metadata": {},
          "execution_count": 115
        }
      ],
      "source": [
        "import chardet\n",
        "with open(file, 'rb') as rawdata:\n",
        "    result = chardet.detect(rawdata.read(100000))\n",
        "result"
      ]
    },
    {
      "cell_type": "markdown",
      "id": "84f190b1",
      "metadata": {
        "id": "84f190b1"
      },
      "source": [
        "# data exploration"
      ]
    },
    {
      "cell_type": "code",
      "execution_count": 116,
      "id": "614cd0b8",
      "metadata": {
        "id": "614cd0b8"
      },
      "outputs": [],
      "source": [
        "df = pd.read_csv(file,encoding='Windows-1252')"
      ]
    },
    {
      "cell_type": "code",
      "execution_count": 117,
      "id": "4330f82f",
      "metadata": {
        "id": "4330f82f"
      },
      "outputs": [],
      "source": [
        "#rename columns\n",
        "df = df[['v1','v2']]\n",
        "df.rename(columns= {'v1':\"class\", 'v2':\"Emails\"}, inplace = True)"
      ]
    },
    {
      "cell_type": "code",
      "execution_count": 118,
      "id": "53cb4f84",
      "metadata": {
        "id": "53cb4f84"
      },
      "outputs": [],
      "source": [
        "df.columns.name='index'"
      ]
    },
    {
      "cell_type": "code",
      "execution_count": 119,
      "id": "4e72bf3d",
      "metadata": {
        "colab": {
          "base_uri": "https://localhost:8080/"
        },
        "id": "4e72bf3d",
        "outputId": "bcc6a096-479d-4fa5-f86c-1f73f1566bdd"
      },
      "outputs": [
        {
          "output_type": "execute_result",
          "data": {
            "text/plain": [
              "(5572, 2)"
            ]
          },
          "metadata": {},
          "execution_count": 119
        }
      ],
      "source": [
        "df.shape"
      ]
    },
    {
      "cell_type": "code",
      "execution_count": 120,
      "id": "aa419a0e",
      "metadata": {
        "colab": {
          "base_uri": "https://localhost:8080/",
          "height": 424
        },
        "id": "aa419a0e",
        "outputId": "b9b48d85-7e14-4aeb-8c4b-72a2a57368e8"
      },
      "outputs": [
        {
          "output_type": "execute_result",
          "data": {
            "text/plain": [
              "index class                                             Emails\n",
              "0       ham  Go until jurong point, crazy.. Available only ...\n",
              "1       ham                      Ok lar... Joking wif u oni...\n",
              "2      spam  Free entry in 2 a wkly comp to win FA Cup fina...\n",
              "3       ham  U dun say so early hor... U c already then say...\n",
              "4       ham  Nah I don't think he goes to usf, he lives aro...\n",
              "...     ...                                                ...\n",
              "5567   spam  This is the 2nd time we have tried 2 contact u...\n",
              "5568    ham              Will Ì_ b going to esplanade fr home?\n",
              "5569    ham  Pity, * was in mood for that. So...any other s...\n",
              "5570    ham  The guy did some bitching but I acted like i'd...\n",
              "5571    ham                         Rofl. Its true to its name\n",
              "\n",
              "[5572 rows x 2 columns]"
            ],
            "text/html": [
              "\n",
              "  <div id=\"df-eca7ead6-b658-4d60-a4aa-528d6dc68089\">\n",
              "    <div class=\"colab-df-container\">\n",
              "      <div>\n",
              "<style scoped>\n",
              "    .dataframe tbody tr th:only-of-type {\n",
              "        vertical-align: middle;\n",
              "    }\n",
              "\n",
              "    .dataframe tbody tr th {\n",
              "        vertical-align: top;\n",
              "    }\n",
              "\n",
              "    .dataframe thead th {\n",
              "        text-align: right;\n",
              "    }\n",
              "</style>\n",
              "<table border=\"1\" class=\"dataframe\">\n",
              "  <thead>\n",
              "    <tr style=\"text-align: right;\">\n",
              "      <th>index</th>\n",
              "      <th>class</th>\n",
              "      <th>Emails</th>\n",
              "    </tr>\n",
              "  </thead>\n",
              "  <tbody>\n",
              "    <tr>\n",
              "      <th>0</th>\n",
              "      <td>ham</td>\n",
              "      <td>Go until jurong point, crazy.. Available only ...</td>\n",
              "    </tr>\n",
              "    <tr>\n",
              "      <th>1</th>\n",
              "      <td>ham</td>\n",
              "      <td>Ok lar... Joking wif u oni...</td>\n",
              "    </tr>\n",
              "    <tr>\n",
              "      <th>2</th>\n",
              "      <td>spam</td>\n",
              "      <td>Free entry in 2 a wkly comp to win FA Cup fina...</td>\n",
              "    </tr>\n",
              "    <tr>\n",
              "      <th>3</th>\n",
              "      <td>ham</td>\n",
              "      <td>U dun say so early hor... U c already then say...</td>\n",
              "    </tr>\n",
              "    <tr>\n",
              "      <th>4</th>\n",
              "      <td>ham</td>\n",
              "      <td>Nah I don't think he goes to usf, he lives aro...</td>\n",
              "    </tr>\n",
              "    <tr>\n",
              "      <th>...</th>\n",
              "      <td>...</td>\n",
              "      <td>...</td>\n",
              "    </tr>\n",
              "    <tr>\n",
              "      <th>5567</th>\n",
              "      <td>spam</td>\n",
              "      <td>This is the 2nd time we have tried 2 contact u...</td>\n",
              "    </tr>\n",
              "    <tr>\n",
              "      <th>5568</th>\n",
              "      <td>ham</td>\n",
              "      <td>Will Ì_ b going to esplanade fr home?</td>\n",
              "    </tr>\n",
              "    <tr>\n",
              "      <th>5569</th>\n",
              "      <td>ham</td>\n",
              "      <td>Pity, * was in mood for that. So...any other s...</td>\n",
              "    </tr>\n",
              "    <tr>\n",
              "      <th>5570</th>\n",
              "      <td>ham</td>\n",
              "      <td>The guy did some bitching but I acted like i'd...</td>\n",
              "    </tr>\n",
              "    <tr>\n",
              "      <th>5571</th>\n",
              "      <td>ham</td>\n",
              "      <td>Rofl. Its true to its name</td>\n",
              "    </tr>\n",
              "  </tbody>\n",
              "</table>\n",
              "<p>5572 rows × 2 columns</p>\n",
              "</div>\n",
              "      <button class=\"colab-df-convert\" onclick=\"convertToInteractive('df-eca7ead6-b658-4d60-a4aa-528d6dc68089')\"\n",
              "              title=\"Convert this dataframe to an interactive table.\"\n",
              "              style=\"display:none;\">\n",
              "        \n",
              "  <svg xmlns=\"http://www.w3.org/2000/svg\" height=\"24px\"viewBox=\"0 0 24 24\"\n",
              "       width=\"24px\">\n",
              "    <path d=\"M0 0h24v24H0V0z\" fill=\"none\"/>\n",
              "    <path d=\"M18.56 5.44l.94 2.06.94-2.06 2.06-.94-2.06-.94-.94-2.06-.94 2.06-2.06.94zm-11 1L8.5 8.5l.94-2.06 2.06-.94-2.06-.94L8.5 2.5l-.94 2.06-2.06.94zm10 10l.94 2.06.94-2.06 2.06-.94-2.06-.94-.94-2.06-.94 2.06-2.06.94z\"/><path d=\"M17.41 7.96l-1.37-1.37c-.4-.4-.92-.59-1.43-.59-.52 0-1.04.2-1.43.59L10.3 9.45l-7.72 7.72c-.78.78-.78 2.05 0 2.83L4 21.41c.39.39.9.59 1.41.59.51 0 1.02-.2 1.41-.59l7.78-7.78 2.81-2.81c.8-.78.8-2.07 0-2.86zM5.41 20L4 18.59l7.72-7.72 1.47 1.35L5.41 20z\"/>\n",
              "  </svg>\n",
              "      </button>\n",
              "      \n",
              "  <style>\n",
              "    .colab-df-container {\n",
              "      display:flex;\n",
              "      flex-wrap:wrap;\n",
              "      gap: 12px;\n",
              "    }\n",
              "\n",
              "    .colab-df-convert {\n",
              "      background-color: #E8F0FE;\n",
              "      border: none;\n",
              "      border-radius: 50%;\n",
              "      cursor: pointer;\n",
              "      display: none;\n",
              "      fill: #1967D2;\n",
              "      height: 32px;\n",
              "      padding: 0 0 0 0;\n",
              "      width: 32px;\n",
              "    }\n",
              "\n",
              "    .colab-df-convert:hover {\n",
              "      background-color: #E2EBFA;\n",
              "      box-shadow: 0px 1px 2px rgba(60, 64, 67, 0.3), 0px 1px 3px 1px rgba(60, 64, 67, 0.15);\n",
              "      fill: #174EA6;\n",
              "    }\n",
              "\n",
              "    [theme=dark] .colab-df-convert {\n",
              "      background-color: #3B4455;\n",
              "      fill: #D2E3FC;\n",
              "    }\n",
              "\n",
              "    [theme=dark] .colab-df-convert:hover {\n",
              "      background-color: #434B5C;\n",
              "      box-shadow: 0px 1px 3px 1px rgba(0, 0, 0, 0.15);\n",
              "      filter: drop-shadow(0px 1px 2px rgba(0, 0, 0, 0.3));\n",
              "      fill: #FFFFFF;\n",
              "    }\n",
              "  </style>\n",
              "\n",
              "      <script>\n",
              "        const buttonEl =\n",
              "          document.querySelector('#df-eca7ead6-b658-4d60-a4aa-528d6dc68089 button.colab-df-convert');\n",
              "        buttonEl.style.display =\n",
              "          google.colab.kernel.accessAllowed ? 'block' : 'none';\n",
              "\n",
              "        async function convertToInteractive(key) {\n",
              "          const element = document.querySelector('#df-eca7ead6-b658-4d60-a4aa-528d6dc68089');\n",
              "          const dataTable =\n",
              "            await google.colab.kernel.invokeFunction('convertToInteractive',\n",
              "                                                     [key], {});\n",
              "          if (!dataTable) return;\n",
              "\n",
              "          const docLinkHtml = 'Like what you see? Visit the ' +\n",
              "            '<a target=\"_blank\" href=https://colab.research.google.com/notebooks/data_table.ipynb>data table notebook</a>'\n",
              "            + ' to learn more about interactive tables.';\n",
              "          element.innerHTML = '';\n",
              "          dataTable['output_type'] = 'display_data';\n",
              "          await google.colab.output.renderOutput(dataTable, element);\n",
              "          const docLink = document.createElement('div');\n",
              "          docLink.innerHTML = docLinkHtml;\n",
              "          element.appendChild(docLink);\n",
              "        }\n",
              "      </script>\n",
              "    </div>\n",
              "  </div>\n",
              "  "
            ]
          },
          "metadata": {},
          "execution_count": 120
        }
      ],
      "source": [
        "df"
      ]
    },
    {
      "cell_type": "markdown",
      "id": "ca67cb53",
      "metadata": {
        "id": "ca67cb53"
      },
      "source": [
        "# data pre-processing"
      ]
    },
    {
      "cell_type": "code",
      "execution_count": 121,
      "id": "1ef6ad33",
      "metadata": {
        "id": "1ef6ad33"
      },
      "outputs": [],
      "source": [
        "def func1(line):\n",
        "    line = line.lower()\n",
        "    return line\n",
        "def func2(line):\n",
        "\n",
        "    line=line.strip()\n",
        "    line = line.split()\n",
        "    return line\n",
        "def func4(last):\n",
        "    lsd=[]\n",
        "    for i in range(len(last)):\n",
        "        x=re.sub('[^a-z]+','',last[i])\n",
        "        if x.strip():\n",
        "            lsd.append(x)\n",
        "    return lsd\n",
        "def func5(last):\n",
        "    sw = ['is', 'are', 'the','i','a','we','am','its','it']\n",
        "    lsd = filter(lambda x: x not in sw,last)\n",
        "    return list(lsd)"
      ]
    },
    {
      "cell_type": "code",
      "execution_count": 122,
      "id": "166bdf8b",
      "metadata": {
        "id": "166bdf8b"
      },
      "outputs": [],
      "source": [
        "df['Emails']=df['Emails'].apply(func1)"
      ]
    },
    {
      "cell_type": "code",
      "execution_count": 123,
      "id": "be3a070e",
      "metadata": {
        "id": "be3a070e"
      },
      "outputs": [],
      "source": [
        "df['Emails']=df['Emails'].apply(func2)"
      ]
    },
    {
      "cell_type": "code",
      "execution_count": 124,
      "id": "9b3e7dab",
      "metadata": {
        "id": "9b3e7dab"
      },
      "outputs": [],
      "source": [
        "df['Emails']=df['Emails'].apply(func4)"
      ]
    },
    {
      "cell_type": "code",
      "execution_count": 125,
      "id": "ace47ee0",
      "metadata": {
        "id": "ace47ee0"
      },
      "outputs": [],
      "source": [
        "df['Emails']=df['Emails'].apply(func5)"
      ]
    },
    {
      "cell_type": "code",
      "execution_count": 126,
      "id": "d2ca72ae",
      "metadata": {
        "colab": {
          "base_uri": "https://localhost:8080/"
        },
        "id": "d2ca72ae",
        "outputId": "0a5053ca-fd0b-4bdd-cf2d-ee5466c1b3c6"
      },
      "outputs": [
        {
          "output_type": "execute_result",
          "data": {
            "text/plain": [
              "0       [go, until, jurong, point, crazy, available, o...\n",
              "1                          [ok, lar, joking, wif, u, oni]\n",
              "2       [free, entry, in, wkly, comp, to, win, fa, cup...\n",
              "3       [u, dun, say, so, early, hor, u, c, already, t...\n",
              "4       [nah, dont, think, he, goes, to, usf, he, live...\n",
              "                              ...                        \n",
              "5567    [this, nd, time, have, tried, contact, u, u, h...\n",
              "5568            [will, b, going, to, esplanade, fr, home]\n",
              "5569    [pity, was, in, mood, for, that, soany, other,...\n",
              "5570    [guy, did, some, bitching, but, acted, like, i...\n",
              "5571                               [rofl, true, to, name]\n",
              "Name: Emails, Length: 5572, dtype: object"
            ]
          },
          "metadata": {},
          "execution_count": 126
        }
      ],
      "source": [
        "df['Emails']"
      ]
    },
    {
      "cell_type": "code",
      "execution_count": 127,
      "id": "9829ec16",
      "metadata": {
        "id": "9829ec16"
      },
      "outputs": [],
      "source": [
        "lec = LabelEncoder()\n",
        "class_ = ['ham', 'spam']\n",
        "lec.fit(class_)\n",
        "df['class']=lec.transform(df['class'])"
      ]
    },
    {
      "cell_type": "code",
      "execution_count": 128,
      "id": "d4195163",
      "metadata": {
        "colab": {
          "base_uri": "https://localhost:8080/",
          "height": 424
        },
        "id": "d4195163",
        "outputId": "f6f59a1f-9c51-4b11-8bff-6587b2d4313e"
      },
      "outputs": [
        {
          "output_type": "execute_result",
          "data": {
            "text/plain": [
              "index  class                                             Emails\n",
              "0          0  [go, until, jurong, point, crazy, available, o...\n",
              "1          0                     [ok, lar, joking, wif, u, oni]\n",
              "2          1  [free, entry, in, wkly, comp, to, win, fa, cup...\n",
              "3          0  [u, dun, say, so, early, hor, u, c, already, t...\n",
              "4          0  [nah, dont, think, he, goes, to, usf, he, live...\n",
              "...      ...                                                ...\n",
              "5567       1  [this, nd, time, have, tried, contact, u, u, h...\n",
              "5568       0          [will, b, going, to, esplanade, fr, home]\n",
              "5569       0  [pity, was, in, mood, for, that, soany, other,...\n",
              "5570       0  [guy, did, some, bitching, but, acted, like, i...\n",
              "5571       0                             [rofl, true, to, name]\n",
              "\n",
              "[5572 rows x 2 columns]"
            ],
            "text/html": [
              "\n",
              "  <div id=\"df-670bc10d-6fe6-4505-b4c2-4f2e62e9516f\">\n",
              "    <div class=\"colab-df-container\">\n",
              "      <div>\n",
              "<style scoped>\n",
              "    .dataframe tbody tr th:only-of-type {\n",
              "        vertical-align: middle;\n",
              "    }\n",
              "\n",
              "    .dataframe tbody tr th {\n",
              "        vertical-align: top;\n",
              "    }\n",
              "\n",
              "    .dataframe thead th {\n",
              "        text-align: right;\n",
              "    }\n",
              "</style>\n",
              "<table border=\"1\" class=\"dataframe\">\n",
              "  <thead>\n",
              "    <tr style=\"text-align: right;\">\n",
              "      <th>index</th>\n",
              "      <th>class</th>\n",
              "      <th>Emails</th>\n",
              "    </tr>\n",
              "  </thead>\n",
              "  <tbody>\n",
              "    <tr>\n",
              "      <th>0</th>\n",
              "      <td>0</td>\n",
              "      <td>[go, until, jurong, point, crazy, available, o...</td>\n",
              "    </tr>\n",
              "    <tr>\n",
              "      <th>1</th>\n",
              "      <td>0</td>\n",
              "      <td>[ok, lar, joking, wif, u, oni]</td>\n",
              "    </tr>\n",
              "    <tr>\n",
              "      <th>2</th>\n",
              "      <td>1</td>\n",
              "      <td>[free, entry, in, wkly, comp, to, win, fa, cup...</td>\n",
              "    </tr>\n",
              "    <tr>\n",
              "      <th>3</th>\n",
              "      <td>0</td>\n",
              "      <td>[u, dun, say, so, early, hor, u, c, already, t...</td>\n",
              "    </tr>\n",
              "    <tr>\n",
              "      <th>4</th>\n",
              "      <td>0</td>\n",
              "      <td>[nah, dont, think, he, goes, to, usf, he, live...</td>\n",
              "    </tr>\n",
              "    <tr>\n",
              "      <th>...</th>\n",
              "      <td>...</td>\n",
              "      <td>...</td>\n",
              "    </tr>\n",
              "    <tr>\n",
              "      <th>5567</th>\n",
              "      <td>1</td>\n",
              "      <td>[this, nd, time, have, tried, contact, u, u, h...</td>\n",
              "    </tr>\n",
              "    <tr>\n",
              "      <th>5568</th>\n",
              "      <td>0</td>\n",
              "      <td>[will, b, going, to, esplanade, fr, home]</td>\n",
              "    </tr>\n",
              "    <tr>\n",
              "      <th>5569</th>\n",
              "      <td>0</td>\n",
              "      <td>[pity, was, in, mood, for, that, soany, other,...</td>\n",
              "    </tr>\n",
              "    <tr>\n",
              "      <th>5570</th>\n",
              "      <td>0</td>\n",
              "      <td>[guy, did, some, bitching, but, acted, like, i...</td>\n",
              "    </tr>\n",
              "    <tr>\n",
              "      <th>5571</th>\n",
              "      <td>0</td>\n",
              "      <td>[rofl, true, to, name]</td>\n",
              "    </tr>\n",
              "  </tbody>\n",
              "</table>\n",
              "<p>5572 rows × 2 columns</p>\n",
              "</div>\n",
              "      <button class=\"colab-df-convert\" onclick=\"convertToInteractive('df-670bc10d-6fe6-4505-b4c2-4f2e62e9516f')\"\n",
              "              title=\"Convert this dataframe to an interactive table.\"\n",
              "              style=\"display:none;\">\n",
              "        \n",
              "  <svg xmlns=\"http://www.w3.org/2000/svg\" height=\"24px\"viewBox=\"0 0 24 24\"\n",
              "       width=\"24px\">\n",
              "    <path d=\"M0 0h24v24H0V0z\" fill=\"none\"/>\n",
              "    <path d=\"M18.56 5.44l.94 2.06.94-2.06 2.06-.94-2.06-.94-.94-2.06-.94 2.06-2.06.94zm-11 1L8.5 8.5l.94-2.06 2.06-.94-2.06-.94L8.5 2.5l-.94 2.06-2.06.94zm10 10l.94 2.06.94-2.06 2.06-.94-2.06-.94-.94-2.06-.94 2.06-2.06.94z\"/><path d=\"M17.41 7.96l-1.37-1.37c-.4-.4-.92-.59-1.43-.59-.52 0-1.04.2-1.43.59L10.3 9.45l-7.72 7.72c-.78.78-.78 2.05 0 2.83L4 21.41c.39.39.9.59 1.41.59.51 0 1.02-.2 1.41-.59l7.78-7.78 2.81-2.81c.8-.78.8-2.07 0-2.86zM5.41 20L4 18.59l7.72-7.72 1.47 1.35L5.41 20z\"/>\n",
              "  </svg>\n",
              "      </button>\n",
              "      \n",
              "  <style>\n",
              "    .colab-df-container {\n",
              "      display:flex;\n",
              "      flex-wrap:wrap;\n",
              "      gap: 12px;\n",
              "    }\n",
              "\n",
              "    .colab-df-convert {\n",
              "      background-color: #E8F0FE;\n",
              "      border: none;\n",
              "      border-radius: 50%;\n",
              "      cursor: pointer;\n",
              "      display: none;\n",
              "      fill: #1967D2;\n",
              "      height: 32px;\n",
              "      padding: 0 0 0 0;\n",
              "      width: 32px;\n",
              "    }\n",
              "\n",
              "    .colab-df-convert:hover {\n",
              "      background-color: #E2EBFA;\n",
              "      box-shadow: 0px 1px 2px rgba(60, 64, 67, 0.3), 0px 1px 3px 1px rgba(60, 64, 67, 0.15);\n",
              "      fill: #174EA6;\n",
              "    }\n",
              "\n",
              "    [theme=dark] .colab-df-convert {\n",
              "      background-color: #3B4455;\n",
              "      fill: #D2E3FC;\n",
              "    }\n",
              "\n",
              "    [theme=dark] .colab-df-convert:hover {\n",
              "      background-color: #434B5C;\n",
              "      box-shadow: 0px 1px 3px 1px rgba(0, 0, 0, 0.15);\n",
              "      filter: drop-shadow(0px 1px 2px rgba(0, 0, 0, 0.3));\n",
              "      fill: #FFFFFF;\n",
              "    }\n",
              "  </style>\n",
              "\n",
              "      <script>\n",
              "        const buttonEl =\n",
              "          document.querySelector('#df-670bc10d-6fe6-4505-b4c2-4f2e62e9516f button.colab-df-convert');\n",
              "        buttonEl.style.display =\n",
              "          google.colab.kernel.accessAllowed ? 'block' : 'none';\n",
              "\n",
              "        async function convertToInteractive(key) {\n",
              "          const element = document.querySelector('#df-670bc10d-6fe6-4505-b4c2-4f2e62e9516f');\n",
              "          const dataTable =\n",
              "            await google.colab.kernel.invokeFunction('convertToInteractive',\n",
              "                                                     [key], {});\n",
              "          if (!dataTable) return;\n",
              "\n",
              "          const docLinkHtml = 'Like what you see? Visit the ' +\n",
              "            '<a target=\"_blank\" href=https://colab.research.google.com/notebooks/data_table.ipynb>data table notebook</a>'\n",
              "            + ' to learn more about interactive tables.';\n",
              "          element.innerHTML = '';\n",
              "          dataTable['output_type'] = 'display_data';\n",
              "          await google.colab.output.renderOutput(dataTable, element);\n",
              "          const docLink = document.createElement('div');\n",
              "          docLink.innerHTML = docLinkHtml;\n",
              "          element.appendChild(docLink);\n",
              "        }\n",
              "      </script>\n",
              "    </div>\n",
              "  </div>\n",
              "  "
            ]
          },
          "metadata": {},
          "execution_count": 128
        }
      ],
      "source": [
        "df"
      ]
    },
    {
      "cell_type": "markdown",
      "id": "2139006b",
      "metadata": {
        "id": "2139006b"
      },
      "source": [
        "# Now to create our vocabulary"
      ]
    },
    {
      "cell_type": "code",
      "execution_count": 129,
      "id": "ed8c3407",
      "metadata": {
        "id": "ed8c3407"
      },
      "outputs": [],
      "source": [
        "vocab = []\n",
        "for emails in df['Emails']:\n",
        "    for words in emails:\n",
        "        vocab.append(words)\n",
        "vocab = list(set(vocab))"
      ]
    },
    {
      "cell_type": "code",
      "execution_count": 130,
      "id": "320433c3",
      "metadata": {
        "colab": {
          "base_uri": "https://localhost:8080/"
        },
        "id": "320433c3",
        "outputId": "ba1ce5f6-c983-4d7b-ada4-1dd562a65960"
      },
      "outputs": [
        {
          "output_type": "execute_result",
          "data": {
            "text/plain": [
              "8529"
            ]
          },
          "metadata": {},
          "execution_count": 130
        }
      ],
      "source": [
        "len(vocab)"
      ]
    },
    {
      "cell_type": "code",
      "execution_count": 131,
      "id": "c5bf4450",
      "metadata": {
        "id": "c5bf4450"
      },
      "outputs": [],
      "source": [
        "wpe = {unq : [0] * len(df['Emails']) for unq in vocab}"
      ]
    },
    {
      "cell_type": "markdown",
      "id": "ed8a4dbb",
      "metadata": {
        "id": "ed8a4dbb"
      },
      "source": [
        "# This code puts values to the coresponding word in Emails"
      ]
    },
    {
      "cell_type": "code",
      "execution_count": 132,
      "id": "7d41a753",
      "metadata": {
        "id": "7d41a753"
      },
      "outputs": [],
      "source": [
        "for index, eml in enumerate(df['Emails']):\n",
        "   for word in eml:\n",
        "      wpe[word][index] += 1"
      ]
    },
    {
      "cell_type": "markdown",
      "id": "38ca2ac7",
      "metadata": {
        "id": "38ca2ac7"
      },
      "source": [
        "# Now creating the data frame"
      ]
    },
    {
      "cell_type": "code",
      "execution_count": 133,
      "id": "5e0b075a",
      "metadata": {
        "id": "5e0b075a"
      },
      "outputs": [],
      "source": [
        "wpe = pd.DataFrame(wpe)"
      ]
    },
    {
      "cell_type": "markdown",
      "id": "73709b33",
      "metadata": {
        "id": "73709b33"
      },
      "source": [
        "# Combining the two DFs"
      ]
    },
    {
      "cell_type": "code",
      "execution_count": 134,
      "id": "edc0a7a1",
      "metadata": {
        "id": "edc0a7a1"
      },
      "outputs": [],
      "source": [
        "df=pd.concat([df,wpe],axis = 1)"
      ]
    },
    {
      "cell_type": "code",
      "execution_count": 135,
      "id": "d119e6ca",
      "metadata": {
        "colab": {
          "base_uri": "https://localhost:8080/",
          "height": 1000
        },
        "id": "d119e6ca",
        "outputId": "702ab548-efc9-4cf8-8a64-08e5bd4f92db"
      },
      "outputs": [
        {
          "output_type": "execute_result",
          "data": {
            "text/plain": [
              "      class                                             Emails  tariffs  \\\n",
              "0         0  [go, until, jurong, point, crazy, available, o...        0   \n",
              "1         0                     [ok, lar, joking, wif, u, oni]        0   \n",
              "2         1  [free, entry, in, wkly, comp, to, win, fa, cup...        0   \n",
              "3         0  [u, dun, say, so, early, hor, u, c, already, t...        0   \n",
              "4         0  [nah, dont, think, he, goes, to, usf, he, live...        0   \n",
              "...     ...                                                ...      ...   \n",
              "5567      1  [this, nd, time, have, tried, contact, u, u, h...        0   \n",
              "5568      0          [will, b, going, to, esplanade, fr, home]        0   \n",
              "5569      0  [pity, was, in, mood, for, that, soany, other,...        0   \n",
              "5570      0  [guy, did, some, bitching, but, acted, like, i...        0   \n",
              "5571      0                             [rofl, true, to, name]        0   \n",
              "\n",
              "      quarter  yoville  perf  gastroenteritis  chikkuali  texas  haunt  ...  \\\n",
              "0           0        0     0                0          0      0      0  ...   \n",
              "1           0        0     0                0          0      0      0  ...   \n",
              "2           0        0     0                0          0      0      0  ...   \n",
              "3           0        0     0                0          0      0      0  ...   \n",
              "4           0        0     0                0          0      0      0  ...   \n",
              "...       ...      ...   ...              ...        ...    ...    ...  ...   \n",
              "5567        0        0     0                0          0      0      0  ...   \n",
              "5568        0        0     0                0          0      0      0  ...   \n",
              "5569        0        0     0                0          0      0      0  ...   \n",
              "5570        0        0     0                0          0      0      0  ...   \n",
              "5571        0        0     0                0          0      0      0  ...   \n",
              "\n",
              "      romantic  strokes  busty  empty  hole  madthen  shahjahans  statements  \\\n",
              "0            0        0      0      0     0        0           0           0   \n",
              "1            0        0      0      0     0        0           0           0   \n",
              "2            0        0      0      0     0        0           0           0   \n",
              "3            0        0      0      0     0        0           0           0   \n",
              "4            0        0      0      0     0        0           0           0   \n",
              "...        ...      ...    ...    ...   ...      ...         ...         ...   \n",
              "5567         0        0      0      0     0        0           0           0   \n",
              "5568         0        0      0      0     0        0           0           0   \n",
              "5569         0        0      0      0     0        0           0           0   \n",
              "5570         0        0      0      0     0        0           0           0   \n",
              "5571         0        0      0      0     0        0           0           0   \n",
              "\n",
              "      pain  invnted  \n",
              "0        0        0  \n",
              "1        0        0  \n",
              "2        0        0  \n",
              "3        0        0  \n",
              "4        0        0  \n",
              "...    ...      ...  \n",
              "5567     0        0  \n",
              "5568     0        0  \n",
              "5569     0        0  \n",
              "5570     0        0  \n",
              "5571     0        0  \n",
              "\n",
              "[5572 rows x 8531 columns]"
            ],
            "text/html": [
              "\n",
              "  <div id=\"df-fca4be33-f431-421b-a767-aa52c33fa749\">\n",
              "    <div class=\"colab-df-container\">\n",
              "      <div>\n",
              "<style scoped>\n",
              "    .dataframe tbody tr th:only-of-type {\n",
              "        vertical-align: middle;\n",
              "    }\n",
              "\n",
              "    .dataframe tbody tr th {\n",
              "        vertical-align: top;\n",
              "    }\n",
              "\n",
              "    .dataframe thead th {\n",
              "        text-align: right;\n",
              "    }\n",
              "</style>\n",
              "<table border=\"1\" class=\"dataframe\">\n",
              "  <thead>\n",
              "    <tr style=\"text-align: right;\">\n",
              "      <th></th>\n",
              "      <th>class</th>\n",
              "      <th>Emails</th>\n",
              "      <th>tariffs</th>\n",
              "      <th>quarter</th>\n",
              "      <th>yoville</th>\n",
              "      <th>perf</th>\n",
              "      <th>gastroenteritis</th>\n",
              "      <th>chikkuali</th>\n",
              "      <th>texas</th>\n",
              "      <th>haunt</th>\n",
              "      <th>...</th>\n",
              "      <th>romantic</th>\n",
              "      <th>strokes</th>\n",
              "      <th>busty</th>\n",
              "      <th>empty</th>\n",
              "      <th>hole</th>\n",
              "      <th>madthen</th>\n",
              "      <th>shahjahans</th>\n",
              "      <th>statements</th>\n",
              "      <th>pain</th>\n",
              "      <th>invnted</th>\n",
              "    </tr>\n",
              "  </thead>\n",
              "  <tbody>\n",
              "    <tr>\n",
              "      <th>0</th>\n",
              "      <td>0</td>\n",
              "      <td>[go, until, jurong, point, crazy, available, o...</td>\n",
              "      <td>0</td>\n",
              "      <td>0</td>\n",
              "      <td>0</td>\n",
              "      <td>0</td>\n",
              "      <td>0</td>\n",
              "      <td>0</td>\n",
              "      <td>0</td>\n",
              "      <td>0</td>\n",
              "      <td>...</td>\n",
              "      <td>0</td>\n",
              "      <td>0</td>\n",
              "      <td>0</td>\n",
              "      <td>0</td>\n",
              "      <td>0</td>\n",
              "      <td>0</td>\n",
              "      <td>0</td>\n",
              "      <td>0</td>\n",
              "      <td>0</td>\n",
              "      <td>0</td>\n",
              "    </tr>\n",
              "    <tr>\n",
              "      <th>1</th>\n",
              "      <td>0</td>\n",
              "      <td>[ok, lar, joking, wif, u, oni]</td>\n",
              "      <td>0</td>\n",
              "      <td>0</td>\n",
              "      <td>0</td>\n",
              "      <td>0</td>\n",
              "      <td>0</td>\n",
              "      <td>0</td>\n",
              "      <td>0</td>\n",
              "      <td>0</td>\n",
              "      <td>...</td>\n",
              "      <td>0</td>\n",
              "      <td>0</td>\n",
              "      <td>0</td>\n",
              "      <td>0</td>\n",
              "      <td>0</td>\n",
              "      <td>0</td>\n",
              "      <td>0</td>\n",
              "      <td>0</td>\n",
              "      <td>0</td>\n",
              "      <td>0</td>\n",
              "    </tr>\n",
              "    <tr>\n",
              "      <th>2</th>\n",
              "      <td>1</td>\n",
              "      <td>[free, entry, in, wkly, comp, to, win, fa, cup...</td>\n",
              "      <td>0</td>\n",
              "      <td>0</td>\n",
              "      <td>0</td>\n",
              "      <td>0</td>\n",
              "      <td>0</td>\n",
              "      <td>0</td>\n",
              "      <td>0</td>\n",
              "      <td>0</td>\n",
              "      <td>...</td>\n",
              "      <td>0</td>\n",
              "      <td>0</td>\n",
              "      <td>0</td>\n",
              "      <td>0</td>\n",
              "      <td>0</td>\n",
              "      <td>0</td>\n",
              "      <td>0</td>\n",
              "      <td>0</td>\n",
              "      <td>0</td>\n",
              "      <td>0</td>\n",
              "    </tr>\n",
              "    <tr>\n",
              "      <th>3</th>\n",
              "      <td>0</td>\n",
              "      <td>[u, dun, say, so, early, hor, u, c, already, t...</td>\n",
              "      <td>0</td>\n",
              "      <td>0</td>\n",
              "      <td>0</td>\n",
              "      <td>0</td>\n",
              "      <td>0</td>\n",
              "      <td>0</td>\n",
              "      <td>0</td>\n",
              "      <td>0</td>\n",
              "      <td>...</td>\n",
              "      <td>0</td>\n",
              "      <td>0</td>\n",
              "      <td>0</td>\n",
              "      <td>0</td>\n",
              "      <td>0</td>\n",
              "      <td>0</td>\n",
              "      <td>0</td>\n",
              "      <td>0</td>\n",
              "      <td>0</td>\n",
              "      <td>0</td>\n",
              "    </tr>\n",
              "    <tr>\n",
              "      <th>4</th>\n",
              "      <td>0</td>\n",
              "      <td>[nah, dont, think, he, goes, to, usf, he, live...</td>\n",
              "      <td>0</td>\n",
              "      <td>0</td>\n",
              "      <td>0</td>\n",
              "      <td>0</td>\n",
              "      <td>0</td>\n",
              "      <td>0</td>\n",
              "      <td>0</td>\n",
              "      <td>0</td>\n",
              "      <td>...</td>\n",
              "      <td>0</td>\n",
              "      <td>0</td>\n",
              "      <td>0</td>\n",
              "      <td>0</td>\n",
              "      <td>0</td>\n",
              "      <td>0</td>\n",
              "      <td>0</td>\n",
              "      <td>0</td>\n",
              "      <td>0</td>\n",
              "      <td>0</td>\n",
              "    </tr>\n",
              "    <tr>\n",
              "      <th>...</th>\n",
              "      <td>...</td>\n",
              "      <td>...</td>\n",
              "      <td>...</td>\n",
              "      <td>...</td>\n",
              "      <td>...</td>\n",
              "      <td>...</td>\n",
              "      <td>...</td>\n",
              "      <td>...</td>\n",
              "      <td>...</td>\n",
              "      <td>...</td>\n",
              "      <td>...</td>\n",
              "      <td>...</td>\n",
              "      <td>...</td>\n",
              "      <td>...</td>\n",
              "      <td>...</td>\n",
              "      <td>...</td>\n",
              "      <td>...</td>\n",
              "      <td>...</td>\n",
              "      <td>...</td>\n",
              "      <td>...</td>\n",
              "      <td>...</td>\n",
              "    </tr>\n",
              "    <tr>\n",
              "      <th>5567</th>\n",
              "      <td>1</td>\n",
              "      <td>[this, nd, time, have, tried, contact, u, u, h...</td>\n",
              "      <td>0</td>\n",
              "      <td>0</td>\n",
              "      <td>0</td>\n",
              "      <td>0</td>\n",
              "      <td>0</td>\n",
              "      <td>0</td>\n",
              "      <td>0</td>\n",
              "      <td>0</td>\n",
              "      <td>...</td>\n",
              "      <td>0</td>\n",
              "      <td>0</td>\n",
              "      <td>0</td>\n",
              "      <td>0</td>\n",
              "      <td>0</td>\n",
              "      <td>0</td>\n",
              "      <td>0</td>\n",
              "      <td>0</td>\n",
              "      <td>0</td>\n",
              "      <td>0</td>\n",
              "    </tr>\n",
              "    <tr>\n",
              "      <th>5568</th>\n",
              "      <td>0</td>\n",
              "      <td>[will, b, going, to, esplanade, fr, home]</td>\n",
              "      <td>0</td>\n",
              "      <td>0</td>\n",
              "      <td>0</td>\n",
              "      <td>0</td>\n",
              "      <td>0</td>\n",
              "      <td>0</td>\n",
              "      <td>0</td>\n",
              "      <td>0</td>\n",
              "      <td>...</td>\n",
              "      <td>0</td>\n",
              "      <td>0</td>\n",
              "      <td>0</td>\n",
              "      <td>0</td>\n",
              "      <td>0</td>\n",
              "      <td>0</td>\n",
              "      <td>0</td>\n",
              "      <td>0</td>\n",
              "      <td>0</td>\n",
              "      <td>0</td>\n",
              "    </tr>\n",
              "    <tr>\n",
              "      <th>5569</th>\n",
              "      <td>0</td>\n",
              "      <td>[pity, was, in, mood, for, that, soany, other,...</td>\n",
              "      <td>0</td>\n",
              "      <td>0</td>\n",
              "      <td>0</td>\n",
              "      <td>0</td>\n",
              "      <td>0</td>\n",
              "      <td>0</td>\n",
              "      <td>0</td>\n",
              "      <td>0</td>\n",
              "      <td>...</td>\n",
              "      <td>0</td>\n",
              "      <td>0</td>\n",
              "      <td>0</td>\n",
              "      <td>0</td>\n",
              "      <td>0</td>\n",
              "      <td>0</td>\n",
              "      <td>0</td>\n",
              "      <td>0</td>\n",
              "      <td>0</td>\n",
              "      <td>0</td>\n",
              "    </tr>\n",
              "    <tr>\n",
              "      <th>5570</th>\n",
              "      <td>0</td>\n",
              "      <td>[guy, did, some, bitching, but, acted, like, i...</td>\n",
              "      <td>0</td>\n",
              "      <td>0</td>\n",
              "      <td>0</td>\n",
              "      <td>0</td>\n",
              "      <td>0</td>\n",
              "      <td>0</td>\n",
              "      <td>0</td>\n",
              "      <td>0</td>\n",
              "      <td>...</td>\n",
              "      <td>0</td>\n",
              "      <td>0</td>\n",
              "      <td>0</td>\n",
              "      <td>0</td>\n",
              "      <td>0</td>\n",
              "      <td>0</td>\n",
              "      <td>0</td>\n",
              "      <td>0</td>\n",
              "      <td>0</td>\n",
              "      <td>0</td>\n",
              "    </tr>\n",
              "    <tr>\n",
              "      <th>5571</th>\n",
              "      <td>0</td>\n",
              "      <td>[rofl, true, to, name]</td>\n",
              "      <td>0</td>\n",
              "      <td>0</td>\n",
              "      <td>0</td>\n",
              "      <td>0</td>\n",
              "      <td>0</td>\n",
              "      <td>0</td>\n",
              "      <td>0</td>\n",
              "      <td>0</td>\n",
              "      <td>...</td>\n",
              "      <td>0</td>\n",
              "      <td>0</td>\n",
              "      <td>0</td>\n",
              "      <td>0</td>\n",
              "      <td>0</td>\n",
              "      <td>0</td>\n",
              "      <td>0</td>\n",
              "      <td>0</td>\n",
              "      <td>0</td>\n",
              "      <td>0</td>\n",
              "    </tr>\n",
              "  </tbody>\n",
              "</table>\n",
              "<p>5572 rows × 8531 columns</p>\n",
              "</div>\n",
              "      <button class=\"colab-df-convert\" onclick=\"convertToInteractive('df-fca4be33-f431-421b-a767-aa52c33fa749')\"\n",
              "              title=\"Convert this dataframe to an interactive table.\"\n",
              "              style=\"display:none;\">\n",
              "        \n",
              "  <svg xmlns=\"http://www.w3.org/2000/svg\" height=\"24px\"viewBox=\"0 0 24 24\"\n",
              "       width=\"24px\">\n",
              "    <path d=\"M0 0h24v24H0V0z\" fill=\"none\"/>\n",
              "    <path d=\"M18.56 5.44l.94 2.06.94-2.06 2.06-.94-2.06-.94-.94-2.06-.94 2.06-2.06.94zm-11 1L8.5 8.5l.94-2.06 2.06-.94-2.06-.94L8.5 2.5l-.94 2.06-2.06.94zm10 10l.94 2.06.94-2.06 2.06-.94-2.06-.94-.94-2.06-.94 2.06-2.06.94z\"/><path d=\"M17.41 7.96l-1.37-1.37c-.4-.4-.92-.59-1.43-.59-.52 0-1.04.2-1.43.59L10.3 9.45l-7.72 7.72c-.78.78-.78 2.05 0 2.83L4 21.41c.39.39.9.59 1.41.59.51 0 1.02-.2 1.41-.59l7.78-7.78 2.81-2.81c.8-.78.8-2.07 0-2.86zM5.41 20L4 18.59l7.72-7.72 1.47 1.35L5.41 20z\"/>\n",
              "  </svg>\n",
              "      </button>\n",
              "      \n",
              "  <style>\n",
              "    .colab-df-container {\n",
              "      display:flex;\n",
              "      flex-wrap:wrap;\n",
              "      gap: 12px;\n",
              "    }\n",
              "\n",
              "    .colab-df-convert {\n",
              "      background-color: #E8F0FE;\n",
              "      border: none;\n",
              "      border-radius: 50%;\n",
              "      cursor: pointer;\n",
              "      display: none;\n",
              "      fill: #1967D2;\n",
              "      height: 32px;\n",
              "      padding: 0 0 0 0;\n",
              "      width: 32px;\n",
              "    }\n",
              "\n",
              "    .colab-df-convert:hover {\n",
              "      background-color: #E2EBFA;\n",
              "      box-shadow: 0px 1px 2px rgba(60, 64, 67, 0.3), 0px 1px 3px 1px rgba(60, 64, 67, 0.15);\n",
              "      fill: #174EA6;\n",
              "    }\n",
              "\n",
              "    [theme=dark] .colab-df-convert {\n",
              "      background-color: #3B4455;\n",
              "      fill: #D2E3FC;\n",
              "    }\n",
              "\n",
              "    [theme=dark] .colab-df-convert:hover {\n",
              "      background-color: #434B5C;\n",
              "      box-shadow: 0px 1px 3px 1px rgba(0, 0, 0, 0.15);\n",
              "      filter: drop-shadow(0px 1px 2px rgba(0, 0, 0, 0.3));\n",
              "      fill: #FFFFFF;\n",
              "    }\n",
              "  </style>\n",
              "\n",
              "      <script>\n",
              "        const buttonEl =\n",
              "          document.querySelector('#df-fca4be33-f431-421b-a767-aa52c33fa749 button.colab-df-convert');\n",
              "        buttonEl.style.display =\n",
              "          google.colab.kernel.accessAllowed ? 'block' : 'none';\n",
              "\n",
              "        async function convertToInteractive(key) {\n",
              "          const element = document.querySelector('#df-fca4be33-f431-421b-a767-aa52c33fa749');\n",
              "          const dataTable =\n",
              "            await google.colab.kernel.invokeFunction('convertToInteractive',\n",
              "                                                     [key], {});\n",
              "          if (!dataTable) return;\n",
              "\n",
              "          const docLinkHtml = 'Like what you see? Visit the ' +\n",
              "            '<a target=\"_blank\" href=https://colab.research.google.com/notebooks/data_table.ipynb>data table notebook</a>'\n",
              "            + ' to learn more about interactive tables.';\n",
              "          element.innerHTML = '';\n",
              "          dataTable['output_type'] = 'display_data';\n",
              "          await google.colab.output.renderOutput(dataTable, element);\n",
              "          const docLink = document.createElement('div');\n",
              "          docLink.innerHTML = docLinkHtml;\n",
              "          element.appendChild(docLink);\n",
              "        }\n",
              "      </script>\n",
              "    </div>\n",
              "  </div>\n",
              "  "
            ]
          },
          "metadata": {},
          "execution_count": 135
        }
      ],
      "source": [
        "df"
      ]
    },
    {
      "cell_type": "markdown",
      "id": "cf68433e",
      "metadata": {
        "id": "cf68433e"
      },
      "source": [
        "# Train and test"
      ]
    },
    {
      "cell_type": "code",
      "execution_count": 136,
      "id": "a3cdbfb4",
      "metadata": {
        "id": "a3cdbfb4"
      },
      "outputs": [],
      "source": [
        "x=df.iloc[:,2:]\n",
        "y=df.iloc[:,:1]"
      ]
    },
    {
      "cell_type": "code",
      "execution_count": 137,
      "id": "18bfd553",
      "metadata": {
        "colab": {
          "base_uri": "https://localhost:8080/",
          "height": 488
        },
        "id": "18bfd553",
        "outputId": "2fa8b3f9-6081-429c-83a2-f3783f66c1b5"
      },
      "outputs": [
        {
          "output_type": "execute_result",
          "data": {
            "text/plain": [
              "      tariffs  quarter  yoville  perf  gastroenteritis  chikkuali  texas  \\\n",
              "0           0        0        0     0                0          0      0   \n",
              "1           0        0        0     0                0          0      0   \n",
              "2           0        0        0     0                0          0      0   \n",
              "3           0        0        0     0                0          0      0   \n",
              "4           0        0        0     0                0          0      0   \n",
              "...       ...      ...      ...   ...              ...        ...    ...   \n",
              "5567        0        0        0     0                0          0      0   \n",
              "5568        0        0        0     0                0          0      0   \n",
              "5569        0        0        0     0                0          0      0   \n",
              "5570        0        0        0     0                0          0      0   \n",
              "5571        0        0        0     0                0          0      0   \n",
              "\n",
              "      haunt  hence  boyy  ...  romantic  strokes  busty  empty  hole  madthen  \\\n",
              "0         0      0     0  ...         0        0      0      0     0        0   \n",
              "1         0      0     0  ...         0        0      0      0     0        0   \n",
              "2         0      0     0  ...         0        0      0      0     0        0   \n",
              "3         0      0     0  ...         0        0      0      0     0        0   \n",
              "4         0      0     0  ...         0        0      0      0     0        0   \n",
              "...     ...    ...   ...  ...       ...      ...    ...    ...   ...      ...   \n",
              "5567      0      0     0  ...         0        0      0      0     0        0   \n",
              "5568      0      0     0  ...         0        0      0      0     0        0   \n",
              "5569      0      0     0  ...         0        0      0      0     0        0   \n",
              "5570      0      0     0  ...         0        0      0      0     0        0   \n",
              "5571      0      0     0  ...         0        0      0      0     0        0   \n",
              "\n",
              "      shahjahans  statements  pain  invnted  \n",
              "0              0           0     0        0  \n",
              "1              0           0     0        0  \n",
              "2              0           0     0        0  \n",
              "3              0           0     0        0  \n",
              "4              0           0     0        0  \n",
              "...          ...         ...   ...      ...  \n",
              "5567           0           0     0        0  \n",
              "5568           0           0     0        0  \n",
              "5569           0           0     0        0  \n",
              "5570           0           0     0        0  \n",
              "5571           0           0     0        0  \n",
              "\n",
              "[5572 rows x 8529 columns]"
            ],
            "text/html": [
              "\n",
              "  <div id=\"df-b164923c-3ffb-4920-8e64-7641cc141a02\">\n",
              "    <div class=\"colab-df-container\">\n",
              "      <div>\n",
              "<style scoped>\n",
              "    .dataframe tbody tr th:only-of-type {\n",
              "        vertical-align: middle;\n",
              "    }\n",
              "\n",
              "    .dataframe tbody tr th {\n",
              "        vertical-align: top;\n",
              "    }\n",
              "\n",
              "    .dataframe thead th {\n",
              "        text-align: right;\n",
              "    }\n",
              "</style>\n",
              "<table border=\"1\" class=\"dataframe\">\n",
              "  <thead>\n",
              "    <tr style=\"text-align: right;\">\n",
              "      <th></th>\n",
              "      <th>tariffs</th>\n",
              "      <th>quarter</th>\n",
              "      <th>yoville</th>\n",
              "      <th>perf</th>\n",
              "      <th>gastroenteritis</th>\n",
              "      <th>chikkuali</th>\n",
              "      <th>texas</th>\n",
              "      <th>haunt</th>\n",
              "      <th>hence</th>\n",
              "      <th>boyy</th>\n",
              "      <th>...</th>\n",
              "      <th>romantic</th>\n",
              "      <th>strokes</th>\n",
              "      <th>busty</th>\n",
              "      <th>empty</th>\n",
              "      <th>hole</th>\n",
              "      <th>madthen</th>\n",
              "      <th>shahjahans</th>\n",
              "      <th>statements</th>\n",
              "      <th>pain</th>\n",
              "      <th>invnted</th>\n",
              "    </tr>\n",
              "  </thead>\n",
              "  <tbody>\n",
              "    <tr>\n",
              "      <th>0</th>\n",
              "      <td>0</td>\n",
              "      <td>0</td>\n",
              "      <td>0</td>\n",
              "      <td>0</td>\n",
              "      <td>0</td>\n",
              "      <td>0</td>\n",
              "      <td>0</td>\n",
              "      <td>0</td>\n",
              "      <td>0</td>\n",
              "      <td>0</td>\n",
              "      <td>...</td>\n",
              "      <td>0</td>\n",
              "      <td>0</td>\n",
              "      <td>0</td>\n",
              "      <td>0</td>\n",
              "      <td>0</td>\n",
              "      <td>0</td>\n",
              "      <td>0</td>\n",
              "      <td>0</td>\n",
              "      <td>0</td>\n",
              "      <td>0</td>\n",
              "    </tr>\n",
              "    <tr>\n",
              "      <th>1</th>\n",
              "      <td>0</td>\n",
              "      <td>0</td>\n",
              "      <td>0</td>\n",
              "      <td>0</td>\n",
              "      <td>0</td>\n",
              "      <td>0</td>\n",
              "      <td>0</td>\n",
              "      <td>0</td>\n",
              "      <td>0</td>\n",
              "      <td>0</td>\n",
              "      <td>...</td>\n",
              "      <td>0</td>\n",
              "      <td>0</td>\n",
              "      <td>0</td>\n",
              "      <td>0</td>\n",
              "      <td>0</td>\n",
              "      <td>0</td>\n",
              "      <td>0</td>\n",
              "      <td>0</td>\n",
              "      <td>0</td>\n",
              "      <td>0</td>\n",
              "    </tr>\n",
              "    <tr>\n",
              "      <th>2</th>\n",
              "      <td>0</td>\n",
              "      <td>0</td>\n",
              "      <td>0</td>\n",
              "      <td>0</td>\n",
              "      <td>0</td>\n",
              "      <td>0</td>\n",
              "      <td>0</td>\n",
              "      <td>0</td>\n",
              "      <td>0</td>\n",
              "      <td>0</td>\n",
              "      <td>...</td>\n",
              "      <td>0</td>\n",
              "      <td>0</td>\n",
              "      <td>0</td>\n",
              "      <td>0</td>\n",
              "      <td>0</td>\n",
              "      <td>0</td>\n",
              "      <td>0</td>\n",
              "      <td>0</td>\n",
              "      <td>0</td>\n",
              "      <td>0</td>\n",
              "    </tr>\n",
              "    <tr>\n",
              "      <th>3</th>\n",
              "      <td>0</td>\n",
              "      <td>0</td>\n",
              "      <td>0</td>\n",
              "      <td>0</td>\n",
              "      <td>0</td>\n",
              "      <td>0</td>\n",
              "      <td>0</td>\n",
              "      <td>0</td>\n",
              "      <td>0</td>\n",
              "      <td>0</td>\n",
              "      <td>...</td>\n",
              "      <td>0</td>\n",
              "      <td>0</td>\n",
              "      <td>0</td>\n",
              "      <td>0</td>\n",
              "      <td>0</td>\n",
              "      <td>0</td>\n",
              "      <td>0</td>\n",
              "      <td>0</td>\n",
              "      <td>0</td>\n",
              "      <td>0</td>\n",
              "    </tr>\n",
              "    <tr>\n",
              "      <th>4</th>\n",
              "      <td>0</td>\n",
              "      <td>0</td>\n",
              "      <td>0</td>\n",
              "      <td>0</td>\n",
              "      <td>0</td>\n",
              "      <td>0</td>\n",
              "      <td>0</td>\n",
              "      <td>0</td>\n",
              "      <td>0</td>\n",
              "      <td>0</td>\n",
              "      <td>...</td>\n",
              "      <td>0</td>\n",
              "      <td>0</td>\n",
              "      <td>0</td>\n",
              "      <td>0</td>\n",
              "      <td>0</td>\n",
              "      <td>0</td>\n",
              "      <td>0</td>\n",
              "      <td>0</td>\n",
              "      <td>0</td>\n",
              "      <td>0</td>\n",
              "    </tr>\n",
              "    <tr>\n",
              "      <th>...</th>\n",
              "      <td>...</td>\n",
              "      <td>...</td>\n",
              "      <td>...</td>\n",
              "      <td>...</td>\n",
              "      <td>...</td>\n",
              "      <td>...</td>\n",
              "      <td>...</td>\n",
              "      <td>...</td>\n",
              "      <td>...</td>\n",
              "      <td>...</td>\n",
              "      <td>...</td>\n",
              "      <td>...</td>\n",
              "      <td>...</td>\n",
              "      <td>...</td>\n",
              "      <td>...</td>\n",
              "      <td>...</td>\n",
              "      <td>...</td>\n",
              "      <td>...</td>\n",
              "      <td>...</td>\n",
              "      <td>...</td>\n",
              "      <td>...</td>\n",
              "    </tr>\n",
              "    <tr>\n",
              "      <th>5567</th>\n",
              "      <td>0</td>\n",
              "      <td>0</td>\n",
              "      <td>0</td>\n",
              "      <td>0</td>\n",
              "      <td>0</td>\n",
              "      <td>0</td>\n",
              "      <td>0</td>\n",
              "      <td>0</td>\n",
              "      <td>0</td>\n",
              "      <td>0</td>\n",
              "      <td>...</td>\n",
              "      <td>0</td>\n",
              "      <td>0</td>\n",
              "      <td>0</td>\n",
              "      <td>0</td>\n",
              "      <td>0</td>\n",
              "      <td>0</td>\n",
              "      <td>0</td>\n",
              "      <td>0</td>\n",
              "      <td>0</td>\n",
              "      <td>0</td>\n",
              "    </tr>\n",
              "    <tr>\n",
              "      <th>5568</th>\n",
              "      <td>0</td>\n",
              "      <td>0</td>\n",
              "      <td>0</td>\n",
              "      <td>0</td>\n",
              "      <td>0</td>\n",
              "      <td>0</td>\n",
              "      <td>0</td>\n",
              "      <td>0</td>\n",
              "      <td>0</td>\n",
              "      <td>0</td>\n",
              "      <td>...</td>\n",
              "      <td>0</td>\n",
              "      <td>0</td>\n",
              "      <td>0</td>\n",
              "      <td>0</td>\n",
              "      <td>0</td>\n",
              "      <td>0</td>\n",
              "      <td>0</td>\n",
              "      <td>0</td>\n",
              "      <td>0</td>\n",
              "      <td>0</td>\n",
              "    </tr>\n",
              "    <tr>\n",
              "      <th>5569</th>\n",
              "      <td>0</td>\n",
              "      <td>0</td>\n",
              "      <td>0</td>\n",
              "      <td>0</td>\n",
              "      <td>0</td>\n",
              "      <td>0</td>\n",
              "      <td>0</td>\n",
              "      <td>0</td>\n",
              "      <td>0</td>\n",
              "      <td>0</td>\n",
              "      <td>...</td>\n",
              "      <td>0</td>\n",
              "      <td>0</td>\n",
              "      <td>0</td>\n",
              "      <td>0</td>\n",
              "      <td>0</td>\n",
              "      <td>0</td>\n",
              "      <td>0</td>\n",
              "      <td>0</td>\n",
              "      <td>0</td>\n",
              "      <td>0</td>\n",
              "    </tr>\n",
              "    <tr>\n",
              "      <th>5570</th>\n",
              "      <td>0</td>\n",
              "      <td>0</td>\n",
              "      <td>0</td>\n",
              "      <td>0</td>\n",
              "      <td>0</td>\n",
              "      <td>0</td>\n",
              "      <td>0</td>\n",
              "      <td>0</td>\n",
              "      <td>0</td>\n",
              "      <td>0</td>\n",
              "      <td>...</td>\n",
              "      <td>0</td>\n",
              "      <td>0</td>\n",
              "      <td>0</td>\n",
              "      <td>0</td>\n",
              "      <td>0</td>\n",
              "      <td>0</td>\n",
              "      <td>0</td>\n",
              "      <td>0</td>\n",
              "      <td>0</td>\n",
              "      <td>0</td>\n",
              "    </tr>\n",
              "    <tr>\n",
              "      <th>5571</th>\n",
              "      <td>0</td>\n",
              "      <td>0</td>\n",
              "      <td>0</td>\n",
              "      <td>0</td>\n",
              "      <td>0</td>\n",
              "      <td>0</td>\n",
              "      <td>0</td>\n",
              "      <td>0</td>\n",
              "      <td>0</td>\n",
              "      <td>0</td>\n",
              "      <td>...</td>\n",
              "      <td>0</td>\n",
              "      <td>0</td>\n",
              "      <td>0</td>\n",
              "      <td>0</td>\n",
              "      <td>0</td>\n",
              "      <td>0</td>\n",
              "      <td>0</td>\n",
              "      <td>0</td>\n",
              "      <td>0</td>\n",
              "      <td>0</td>\n",
              "    </tr>\n",
              "  </tbody>\n",
              "</table>\n",
              "<p>5572 rows × 8529 columns</p>\n",
              "</div>\n",
              "      <button class=\"colab-df-convert\" onclick=\"convertToInteractive('df-b164923c-3ffb-4920-8e64-7641cc141a02')\"\n",
              "              title=\"Convert this dataframe to an interactive table.\"\n",
              "              style=\"display:none;\">\n",
              "        \n",
              "  <svg xmlns=\"http://www.w3.org/2000/svg\" height=\"24px\"viewBox=\"0 0 24 24\"\n",
              "       width=\"24px\">\n",
              "    <path d=\"M0 0h24v24H0V0z\" fill=\"none\"/>\n",
              "    <path d=\"M18.56 5.44l.94 2.06.94-2.06 2.06-.94-2.06-.94-.94-2.06-.94 2.06-2.06.94zm-11 1L8.5 8.5l.94-2.06 2.06-.94-2.06-.94L8.5 2.5l-.94 2.06-2.06.94zm10 10l.94 2.06.94-2.06 2.06-.94-2.06-.94-.94-2.06-.94 2.06-2.06.94z\"/><path d=\"M17.41 7.96l-1.37-1.37c-.4-.4-.92-.59-1.43-.59-.52 0-1.04.2-1.43.59L10.3 9.45l-7.72 7.72c-.78.78-.78 2.05 0 2.83L4 21.41c.39.39.9.59 1.41.59.51 0 1.02-.2 1.41-.59l7.78-7.78 2.81-2.81c.8-.78.8-2.07 0-2.86zM5.41 20L4 18.59l7.72-7.72 1.47 1.35L5.41 20z\"/>\n",
              "  </svg>\n",
              "      </button>\n",
              "      \n",
              "  <style>\n",
              "    .colab-df-container {\n",
              "      display:flex;\n",
              "      flex-wrap:wrap;\n",
              "      gap: 12px;\n",
              "    }\n",
              "\n",
              "    .colab-df-convert {\n",
              "      background-color: #E8F0FE;\n",
              "      border: none;\n",
              "      border-radius: 50%;\n",
              "      cursor: pointer;\n",
              "      display: none;\n",
              "      fill: #1967D2;\n",
              "      height: 32px;\n",
              "      padding: 0 0 0 0;\n",
              "      width: 32px;\n",
              "    }\n",
              "\n",
              "    .colab-df-convert:hover {\n",
              "      background-color: #E2EBFA;\n",
              "      box-shadow: 0px 1px 2px rgba(60, 64, 67, 0.3), 0px 1px 3px 1px rgba(60, 64, 67, 0.15);\n",
              "      fill: #174EA6;\n",
              "    }\n",
              "\n",
              "    [theme=dark] .colab-df-convert {\n",
              "      background-color: #3B4455;\n",
              "      fill: #D2E3FC;\n",
              "    }\n",
              "\n",
              "    [theme=dark] .colab-df-convert:hover {\n",
              "      background-color: #434B5C;\n",
              "      box-shadow: 0px 1px 3px 1px rgba(0, 0, 0, 0.15);\n",
              "      filter: drop-shadow(0px 1px 2px rgba(0, 0, 0, 0.3));\n",
              "      fill: #FFFFFF;\n",
              "    }\n",
              "  </style>\n",
              "\n",
              "      <script>\n",
              "        const buttonEl =\n",
              "          document.querySelector('#df-b164923c-3ffb-4920-8e64-7641cc141a02 button.colab-df-convert');\n",
              "        buttonEl.style.display =\n",
              "          google.colab.kernel.accessAllowed ? 'block' : 'none';\n",
              "\n",
              "        async function convertToInteractive(key) {\n",
              "          const element = document.querySelector('#df-b164923c-3ffb-4920-8e64-7641cc141a02');\n",
              "          const dataTable =\n",
              "            await google.colab.kernel.invokeFunction('convertToInteractive',\n",
              "                                                     [key], {});\n",
              "          if (!dataTable) return;\n",
              "\n",
              "          const docLinkHtml = 'Like what you see? Visit the ' +\n",
              "            '<a target=\"_blank\" href=https://colab.research.google.com/notebooks/data_table.ipynb>data table notebook</a>'\n",
              "            + ' to learn more about interactive tables.';\n",
              "          element.innerHTML = '';\n",
              "          dataTable['output_type'] = 'display_data';\n",
              "          await google.colab.output.renderOutput(dataTable, element);\n",
              "          const docLink = document.createElement('div');\n",
              "          docLink.innerHTML = docLinkHtml;\n",
              "          element.appendChild(docLink);\n",
              "        }\n",
              "      </script>\n",
              "    </div>\n",
              "  </div>\n",
              "  "
            ]
          },
          "metadata": {},
          "execution_count": 137
        }
      ],
      "source": [
        "x"
      ]
    },
    {
      "cell_type": "code",
      "execution_count": 138,
      "id": "6943ab59",
      "metadata": {
        "colab": {
          "base_uri": "https://localhost:8080/"
        },
        "id": "6943ab59",
        "outputId": "bd74e23f-4fd5-4ecd-c8e1-24186d90d4bd"
      },
      "outputs": [
        {
          "output_type": "execute_result",
          "data": {
            "text/plain": [
              "(5572, 1)"
            ]
          },
          "metadata": {},
          "execution_count": 138
        }
      ],
      "source": [
        "y.shape"
      ]
    },
    {
      "cell_type": "code",
      "execution_count": 139,
      "id": "442ca4f0",
      "metadata": {
        "id": "442ca4f0"
      },
      "outputs": [],
      "source": [
        "xtrain,xtest,ytrain,ytest = train_test_split(x,y,test_size=0.3,train_size=0.7,random_state=101)"
      ]
    },
    {
      "cell_type": "code",
      "execution_count": 140,
      "id": "fe1d7df8",
      "metadata": {
        "colab": {
          "base_uri": "https://localhost:8080/"
        },
        "id": "fe1d7df8",
        "outputId": "ad5cd143-b0f4-43eb-d141-7c8d023a4d8d"
      },
      "outputs": [
        {
          "output_type": "execute_result",
          "data": {
            "text/plain": [
              "(3900, 1)"
            ]
          },
          "metadata": {},
          "execution_count": 140
        }
      ],
      "source": [
        "bnb = BernoulliNB()\n",
        "ytrain.shape"
      ]
    },
    {
      "cell_type": "code",
      "execution_count": 141,
      "id": "209138d0",
      "metadata": {
        "colab": {
          "base_uri": "https://localhost:8080/",
          "height": 75
        },
        "id": "209138d0",
        "outputId": "6af83986-a1e9-4ea9-9656-1af95a69ae12"
      },
      "outputs": [
        {
          "output_type": "execute_result",
          "data": {
            "text/plain": [
              "BernoulliNB()"
            ],
            "text/html": [
              "<style>#sk-container-id-3 {color: black;background-color: white;}#sk-container-id-3 pre{padding: 0;}#sk-container-id-3 div.sk-toggleable {background-color: white;}#sk-container-id-3 label.sk-toggleable__label {cursor: pointer;display: block;width: 100%;margin-bottom: 0;padding: 0.3em;box-sizing: border-box;text-align: center;}#sk-container-id-3 label.sk-toggleable__label-arrow:before {content: \"▸\";float: left;margin-right: 0.25em;color: #696969;}#sk-container-id-3 label.sk-toggleable__label-arrow:hover:before {color: black;}#sk-container-id-3 div.sk-estimator:hover label.sk-toggleable__label-arrow:before {color: black;}#sk-container-id-3 div.sk-toggleable__content {max-height: 0;max-width: 0;overflow: hidden;text-align: left;background-color: #f0f8ff;}#sk-container-id-3 div.sk-toggleable__content pre {margin: 0.2em;color: black;border-radius: 0.25em;background-color: #f0f8ff;}#sk-container-id-3 input.sk-toggleable__control:checked~div.sk-toggleable__content {max-height: 200px;max-width: 100%;overflow: auto;}#sk-container-id-3 input.sk-toggleable__control:checked~label.sk-toggleable__label-arrow:before {content: \"▾\";}#sk-container-id-3 div.sk-estimator input.sk-toggleable__control:checked~label.sk-toggleable__label {background-color: #d4ebff;}#sk-container-id-3 div.sk-label input.sk-toggleable__control:checked~label.sk-toggleable__label {background-color: #d4ebff;}#sk-container-id-3 input.sk-hidden--visually {border: 0;clip: rect(1px 1px 1px 1px);clip: rect(1px, 1px, 1px, 1px);height: 1px;margin: -1px;overflow: hidden;padding: 0;position: absolute;width: 1px;}#sk-container-id-3 div.sk-estimator {font-family: monospace;background-color: #f0f8ff;border: 1px dotted black;border-radius: 0.25em;box-sizing: border-box;margin-bottom: 0.5em;}#sk-container-id-3 div.sk-estimator:hover {background-color: #d4ebff;}#sk-container-id-3 div.sk-parallel-item::after {content: \"\";width: 100%;border-bottom: 1px solid gray;flex-grow: 1;}#sk-container-id-3 div.sk-label:hover label.sk-toggleable__label {background-color: #d4ebff;}#sk-container-id-3 div.sk-serial::before {content: \"\";position: absolute;border-left: 1px solid gray;box-sizing: border-box;top: 0;bottom: 0;left: 50%;z-index: 0;}#sk-container-id-3 div.sk-serial {display: flex;flex-direction: column;align-items: center;background-color: white;padding-right: 0.2em;padding-left: 0.2em;position: relative;}#sk-container-id-3 div.sk-item {position: relative;z-index: 1;}#sk-container-id-3 div.sk-parallel {display: flex;align-items: stretch;justify-content: center;background-color: white;position: relative;}#sk-container-id-3 div.sk-item::before, #sk-container-id-3 div.sk-parallel-item::before {content: \"\";position: absolute;border-left: 1px solid gray;box-sizing: border-box;top: 0;bottom: 0;left: 50%;z-index: -1;}#sk-container-id-3 div.sk-parallel-item {display: flex;flex-direction: column;z-index: 1;position: relative;background-color: white;}#sk-container-id-3 div.sk-parallel-item:first-child::after {align-self: flex-end;width: 50%;}#sk-container-id-3 div.sk-parallel-item:last-child::after {align-self: flex-start;width: 50%;}#sk-container-id-3 div.sk-parallel-item:only-child::after {width: 0;}#sk-container-id-3 div.sk-dashed-wrapped {border: 1px dashed gray;margin: 0 0.4em 0.5em 0.4em;box-sizing: border-box;padding-bottom: 0.4em;background-color: white;}#sk-container-id-3 div.sk-label label {font-family: monospace;font-weight: bold;display: inline-block;line-height: 1.2em;}#sk-container-id-3 div.sk-label-container {text-align: center;}#sk-container-id-3 div.sk-container {/* jupyter's `normalize.less` sets `[hidden] { display: none; }` but bootstrap.min.css set `[hidden] { display: none !important; }` so we also need the `!important` here to be able to override the default hidden behavior on the sphinx rendered scikit-learn.org. See: https://github.com/scikit-learn/scikit-learn/issues/21755 */display: inline-block !important;position: relative;}#sk-container-id-3 div.sk-text-repr-fallback {display: none;}</style><div id=\"sk-container-id-3\" class=\"sk-top-container\"><div class=\"sk-text-repr-fallback\"><pre>BernoulliNB()</pre><b>In a Jupyter environment, please rerun this cell to show the HTML representation or trust the notebook. <br />On GitHub, the HTML representation is unable to render, please try loading this page with nbviewer.org.</b></div><div class=\"sk-container\" hidden><div class=\"sk-item\"><div class=\"sk-estimator sk-toggleable\"><input class=\"sk-toggleable__control sk-hidden--visually\" id=\"sk-estimator-id-3\" type=\"checkbox\" checked><label for=\"sk-estimator-id-3\" class=\"sk-toggleable__label sk-toggleable__label-arrow\">BernoulliNB</label><div class=\"sk-toggleable__content\"><pre>BernoulliNB()</pre></div></div></div></div></div>"
            ]
          },
          "metadata": {},
          "execution_count": 141
        }
      ],
      "source": [
        "bnb.fit(xtrain,ytrain)"
      ]
    },
    {
      "cell_type": "code",
      "execution_count": 142,
      "id": "7e230d82",
      "metadata": {
        "id": "7e230d82"
      },
      "outputs": [],
      "source": [
        "ypdct = bnb.predict(xtest)"
      ]
    },
    {
      "cell_type": "code",
      "execution_count": 143,
      "id": "45940cac",
      "metadata": {
        "id": "45940cac"
      },
      "outputs": [],
      "source": [
        "acry = round(accuracy_score(ytest, ypdct), 2)"
      ]
    },
    {
      "cell_type": "code",
      "execution_count": 144,
      "id": "8b9d33e0",
      "metadata": {
        "colab": {
          "base_uri": "https://localhost:8080/"
        },
        "id": "8b9d33e0",
        "outputId": "521d07c2-a453-4a4e-d2cf-57c6505c18cd"
      },
      "outputs": [
        {
          "output_type": "execute_result",
          "data": {
            "text/plain": [
              "0.97"
            ]
          },
          "metadata": {},
          "execution_count": 144
        }
      ],
      "source": [
        "acry"
      ]
    },
    {
      "cell_type": "code",
      "execution_count": 145,
      "id": "309bbc10",
      "metadata": {
        "id": "309bbc10"
      },
      "outputs": [],
      "source": [
        "test = pd.concat([ytest,xtest],axis = 1)"
      ]
    },
    {
      "cell_type": "code",
      "execution_count": 146,
      "id": "bb698ea7",
      "metadata": {
        "scrolled": true,
        "colab": {
          "base_uri": "https://localhost:8080/"
        },
        "id": "bb698ea7",
        "outputId": "241fc834-955b-42b5-9126-57dc7c50850a"
      },
      "outputs": [
        {
          "output_type": "stream",
          "name": "stdout",
          "text": [
            "      class  tariffs  quarter  yoville  perf  gastroenteritis  chikkuali  \\\n",
            "2373      1        0        0        0     0                0          0   \n",
            "1942      0        0        0        0     0                0          0   \n",
            "54        1        0        0        0     0                0          0   \n",
            "1900      0        0        0        0     0                0          0   \n",
            "1564      0        0        0        0     0                0          0   \n",
            "...     ...      ...      ...      ...   ...              ...        ...   \n",
            "790       0        0        0        0     0                0          0   \n",
            "3982      0        0        0        0     0                0          0   \n",
            "823       1        0        0        0     0                0          0   \n",
            "1911      0        0        0        0     0                0          0   \n",
            "1237      0        0        0        0     0                0          0   \n",
            "\n",
            "      texas  haunt  hence  ...  strokes  busty  empty  hole  madthen  \\\n",
            "2373      0      0      0  ...        0      0      0     0        0   \n",
            "1942      0      0      0  ...        0      0      0     0        0   \n",
            "54        0      0      0  ...        0      0      0     0        0   \n",
            "1900      0      0      0  ...        0      0      0     0        0   \n",
            "1564      0      0      0  ...        0      0      0     0        0   \n",
            "...     ...    ...    ...  ...      ...    ...    ...   ...      ...   \n",
            "790       0      0      0  ...        0      0      0     0        0   \n",
            "3982      0      0      0  ...        0      0      0     0        0   \n",
            "823       0      0      0  ...        0      0      0     0        0   \n",
            "1911      0      0      0  ...        0      0      0     0        0   \n",
            "1237      0      0      0  ...        0      0      0     0        0   \n",
            "\n",
            "      shahjahans  statements  pain  invnted  predicted_gender  \n",
            "2373           0           0     0        0              spam  \n",
            "1942           0           0     0        0               ham  \n",
            "54             0           0     0        0              spam  \n",
            "1900           0           0     0        0               ham  \n",
            "1564           0           0     0        0               ham  \n",
            "...          ...         ...   ...      ...               ...  \n",
            "790            0           0     0        0               ham  \n",
            "3982           0           0     0        0               ham  \n",
            "823            0           0     0        0              spam  \n",
            "1911           0           0     0        0               ham  \n",
            "1237           0           0     0        0               ham  \n",
            "\n",
            "[1672 rows x 8531 columns]\n"
          ]
        }
      ],
      "source": [
        "itv = lec.inverse_transform(ypdct)\n",
        "print(test.assign(predicted_gender = itv))"
      ]
    },
    {
      "cell_type": "markdown",
      "id": "6ae7cacf",
      "metadata": {
        "id": "6ae7cacf"
      },
      "source": [
        "# for unseen data \\ user input"
      ]
    },
    {
      "cell_type": "code",
      "execution_count": 179,
      "id": "35ad7cf8",
      "metadata": {
        "id": "35ad7cf8"
      },
      "outputs": [],
      "source": [
        "def classify(email):\n",
        "    lsd=[]\n",
        "    email = email.lower().strip().split()\n",
        "    for i in email:\n",
        "        x=re.sub('[^a-z]+','',i)\n",
        "        if x.strip():\n",
        "            lsd.append(x)\n",
        "    sw = ['is', 'are', 'the','i','a','we','am','its','it']\n",
        "    lsd = filter(lambda x: x not in sw, lsd)\n",
        "    lsd = list(lsd)\n",
        "    for i in lsd:\n",
        "      if i not in vocab:\n",
        "             lsd.remove(i)\n",
        "    wp = {u : [0]*1 for u in vocab}\n",
        "    wp = pd.DataFrame(wp)\n",
        "    for eml in lsd:\n",
        "          wp[eml][0]+=1\n",
        "    prdct = bnb.predict(wp)\n",
        "    if prdct == [0]:\n",
        "      print('email is not spam')\n",
        "    elif prdct == [1]:\n",
        "      print('email is spam')\n",
        "\n",
        ""
      ]
    },
    {
      "cell_type": "code",
      "source": [
        "ema = '''Free entry in 2 a wkly comp to win FA Cup final tkts 21st May 2005. Text FA to 87121 to receive entry question(std txt rate)T&C's apply 08452810075over18's\t'''\n",
        "classify(ema)\n"
      ],
      "metadata": {
        "colab": {
          "base_uri": "https://localhost:8080/"
        },
        "id": "4Rx9QkQzqJXK",
        "outputId": "d46d3ae4-aaf6-4fd0-e465-b15875cfe817"
      },
      "id": "4Rx9QkQzqJXK",
      "execution_count": 181,
      "outputs": [
        {
          "output_type": "stream",
          "name": "stdout",
          "text": [
            "email is spam\n"
          ]
        }
      ]
    },
    {
      "cell_type": "code",
      "source": [],
      "metadata": {
        "id": "rLVm0S3FzLpF"
      },
      "id": "rLVm0S3FzLpF",
      "execution_count": null,
      "outputs": []
    }
  ],
  "metadata": {
    "kernelspec": {
      "display_name": "Python 3 (ipykernel)",
      "language": "python",
      "name": "python3"
    },
    "language_info": {
      "codemirror_mode": {
        "name": "ipython",
        "version": 3
      },
      "file_extension": ".py",
      "mimetype": "text/x-python",
      "name": "python",
      "nbconvert_exporter": "python",
      "pygments_lexer": "ipython3",
      "version": "3.9.13"
    },
    "colab": {
      "provenance": []
    }
  },
  "nbformat": 4,
  "nbformat_minor": 5
}